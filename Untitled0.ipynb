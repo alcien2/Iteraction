{
  "nbformat": 4,
  "nbformat_minor": 0,
  "metadata": {
    "colab": {
      "name": "Untitled0.ipynb",
      "provenance": [],
      "authorship_tag": "ABX9TyMuM6D5G8hiGDbyaaraT00s",
      "include_colab_link": true
    },
    "kernelspec": {
      "name": "python3",
      "display_name": "Python 3"
    },
    "accelerator": "GPU"
  },
  "cells": [
    {
      "cell_type": "markdown",
      "metadata": {
        "id": "view-in-github",
        "colab_type": "text"
      },
      "source": [
        "<a href=\"https://colab.research.google.com/github/alcien2/Iteraction/blob/master/Untitled0.ipynb\" target=\"_parent\"><img src=\"https://colab.research.google.com/assets/colab-badge.svg\" alt=\"Open In Colab\"/></a>"
      ]
    },
    {
      "cell_type": "code",
      "metadata": {
        "id": "0pTs3QYU2Zw9"
      },
      "source": [
        "import numpy as np \n",
        "import matplotlib.pyplot as plt\n",
        "import torch\n",
        "import torch.nn as nn\n",
        "import torch.nn.functional as F\n",
        "from tqdm import tqdm\n",
        "from sympy.physics.quantum.dagger import Dagger\n",
        "import math\n",
        "import random\n",
        "import cmath\n",
        "from sympy import I, Matrix, symbols\n",
        "from sympy.physics.quantum import TensorProduct\n",
        "import pandas as pd\n",
        "from IPython.display import clear_output\n"
      ],
      "execution_count": 2,
      "outputs": []
    },
    {
      "cell_type": "code",
      "metadata": {
        "id": "T5N39Ci9IH2d"
      },
      "source": [
        "one = np.array([[1., 0.],[0.,1.]])\n",
        "pauli_1 = np.array([[0.,1.],[1.,0.]])\n",
        "pauli_2 = np.array([[0., 0-1j],[0 +1j, 0.]])\n",
        "pauli_3 = np.array([[1.,0.],[0., -1.]])\n",
        "plus = (1/2 * (pauli_1 + 1.j * pauli_2)).real\n",
        "minus = (1/2 * (pauli_1 - 1.j * pauli_2)).real\n"
      ],
      "execution_count": 2,
      "outputs": []
    },
    {
      "cell_type": "code",
      "metadata": {
        "id": "bqlVwZYuILJE",
        "colab": {
          "base_uri": "https://localhost:8080/"
        },
        "outputId": "0f9b89be-e94a-4007-918d-358fc9abbf61"
      },
      "source": [
        "#Hamiltonian\n",
        "number_of_qubits = 10\n",
        "m = 0.1\n",
        "\n",
        "def Get_H(m):\n",
        "    res_XY = torch.zeros(2**number_of_qubits, 2**number_of_qubits)\n",
        "    res_mass = torch.zeros(2**number_of_qubits, 2**number_of_qubits)\n",
        "    res_iter = torch.zeros(2**number_of_qubits, 2**number_of_qubits)\n",
        "\n",
        "\n",
        "    # XY term\n",
        "    first = one\n",
        "    for i in range(1,number_of_qubits):\n",
        "        #print(i)\n",
        "        first = one\n",
        "        second = one\n",
        "        for j in range(1, number_of_qubits -i-1):\n",
        "            first = TensorProduct(one, first)\n",
        "            second = TensorProduct(one, second)\n",
        "        if i != number_of_qubits - 1 :\n",
        "            first = TensorProduct(minus, first)\n",
        "            first = TensorProduct(plus, first)\n",
        "            second = TensorProduct(plus, second)\n",
        "            second = TensorProduct(minus, second)\n",
        "        else:\n",
        "            first = TensorProduct(plus, minus)\n",
        "            second = TensorProduct(minus, plus)\n",
        "        for j in range(1,i):\n",
        "            #print(\"uu\")\n",
        "            first = TensorProduct(one, first)\n",
        "            second = TensorProduct(one, second)\n",
        "        #print(c.size())\n",
        "        res_XY += torch.from_numpy(first + second)\n",
        "\n",
        "    #print(res_XY)\n",
        "\n",
        "    # mass term\n",
        "    for i in range(1, number_of_qubits + 1):\n",
        "        mass = one\n",
        "        for j in range(1, number_of_qubits - i):\n",
        "            mass = TensorProduct(one, mass)\n",
        "        if i == number_of_qubits:\n",
        "            mass = pauli_3\n",
        "        else:\n",
        "            mass = TensorProduct(pauli_3, mass)\n",
        "        for j in range(1, i):\n",
        "            mass = TensorProduct(one, mass)\n",
        "    \n",
        "        res_mass += (-1)**i * (torch.from_numpy(mass))\n",
        "    \n",
        "       \n",
        "    #print(res_mass)\n",
        "\n",
        "    # iteraction term\n",
        "    for i in range(1,number_of_qubits ):\n",
        "        res_ite = torch.zeros(2**number_of_qubits , 2**number_of_qubits)\n",
        "        res_ones = torch.zeros(2**number_of_qubits , 2**number_of_qubits)\n",
        "        for j in range(1, i + 1):\n",
        "        \n",
        "            ite = one\n",
        "        \n",
        "            for k in range(1, number_of_qubits - j):\n",
        "                ite = TensorProduct(one, ite)\n",
        "            if j == number_of_qubits:\n",
        "                ite = pauli_3\n",
        "            else:\n",
        "                ite = TensorProduct(pauli_3, ite)\n",
        "            for k in range(1, j):\n",
        "                ite = TensorProduct(one, ite)\n",
        "            res_ite += (torch.from_numpy(ite)) \n",
        "            ones = one\n",
        "        \n",
        "            for k in range(1,number_of_qubits):\n",
        "                ones = TensorProduct(one, ones)\n",
        "            res_ones += (-1)**j*(torch.from_numpy(ones))\n",
        "        res_iter += torch.matmul(res_ones + res_ite, res_ones + res_ite)   \n",
        "    \n",
        "    \n",
        "    return 1/4*res_iter + res_XY + m/2*res_mass \n",
        "H = Get_H(m)\n",
        "I = torch.zeros(2**number_of_qubits,2**number_of_qubits)\n",
        "for i in range(2**number_of_qubits):\n",
        "    I[i][i] = 1.579100\n",
        "#H = H +I\n",
        "print(H)"
      ],
      "execution_count": 3,
      "outputs": [
        {
          "output_type": "stream",
          "text": [
            "tensor([[60.0000,  0.0000,  0.0000,  ...,  0.0000,  0.0000,  0.0000],\n",
            "        [ 0.0000, 59.9000,  1.0000,  ...,  0.0000,  0.0000,  0.0000],\n",
            "        [ 0.0000,  1.0000, 53.1000,  ...,  0.0000,  0.0000,  0.0000],\n",
            "        ...,\n",
            "        [ 0.0000,  0.0000,  0.0000,  ..., 75.9000,  1.0000,  0.0000],\n",
            "        [ 0.0000,  0.0000,  0.0000,  ...,  1.0000, 85.1000,  0.0000],\n",
            "        [ 0.0000,  0.0000,  0.0000,  ...,  0.0000,  0.0000, 85.0000]])\n"
          ],
          "name": "stdout"
        }
      ]
    },
    {
      "cell_type": "code",
      "metadata": {
        "id": "t2UWikoXQnfC"
      },
      "source": [
        "number_of_qubits = 10\n"
      ],
      "execution_count": 4,
      "outputs": []
    },
    {
      "cell_type": "code",
      "metadata": {
        "id": "1GrIGeanAy6x",
        "colab": {
          "base_uri": "https://localhost:8080/"
        },
        "outputId": "ce281eab-ae4a-4109-e583-68559c181ca0"
      },
      "source": [
        "device = torch.device('cuda:0' if torch.cuda.is_available() else 'cpu')\n",
        "device"
      ],
      "execution_count": 14,
      "outputs": [
        {
          "output_type": "execute_result",
          "data": {
            "text/plain": [
              "device(type='cuda', index=0)"
            ]
          },
          "metadata": {
            "tags": []
          },
          "execution_count": 14
        }
      ]
    },
    {
      "cell_type": "code",
      "metadata": {
        "id": "acJ0nxNTIRFL",
        "colab": {
          "base_uri": "https://localhost:8080/"
        },
        "outputId": "ef31b2de-c0b4-4776-89ed-a6191681a8ff"
      },
      "source": [
        "from itertools import product\n",
        "\n",
        "basis = torch.zeros(2**number_of_qubits,number_of_qubits)\n",
        "r = 2**number_of_qubits - 1\n",
        "#r = 0\n",
        "for p in product('10', repeat= number_of_qubits):\n",
        "    for i in range(number_of_qubits):\n",
        "        #print(p[i])\n",
        "        #if(float(p[i]) == 0):\n",
        "        #    basis[r][i] = -1\n",
        "        #else:\n",
        "        basis[r][i] = float(p[i])\n",
        "    r -= 1\n",
        "print(basis)"
      ],
      "execution_count": 6,
      "outputs": [
        {
          "output_type": "stream",
          "text": [
            "tensor([[0., 0., 0.,  ..., 0., 0., 0.],\n",
            "        [0., 0., 0.,  ..., 0., 0., 1.],\n",
            "        [0., 0., 0.,  ..., 0., 1., 0.],\n",
            "        ...,\n",
            "        [1., 1., 1.,  ..., 1., 0., 1.],\n",
            "        [1., 1., 1.,  ..., 1., 1., 0.],\n",
            "        [1., 1., 1.,  ..., 1., 1., 1.]])\n"
          ],
          "name": "stdout"
        }
      ]
    },
    {
      "cell_type": "code",
      "metadata": {
        "id": "nfchIDDoIUSG"
      },
      "source": [
        "def make_batch(batch_size):\n",
        "    return torch.randint(0,2,(batch_size,number_of_qubits)).type(torch.FloatTensor)"
      ],
      "execution_count": 7,
      "outputs": []
    },
    {
      "cell_type": "code",
      "metadata": {
        "id": "2d5m_pDjIVVW",
        "colab": {
          "base_uri": "https://localhost:8080/"
        },
        "outputId": "d810d449-39f4-49f9-a37c-bc7e932ed22f"
      },
      "source": [
        "batch = make_batch(10).to(device)\n",
        "print(batch)"
      ],
      "execution_count": 8,
      "outputs": [
        {
          "output_type": "stream",
          "text": [
            "tensor([[0., 1., 1., 0., 1., 0., 1., 1., 1., 1.],\n",
            "        [1., 1., 0., 1., 1., 0., 0., 0., 1., 1.],\n",
            "        [1., 1., 0., 0., 0., 1., 0., 0., 1., 1.],\n",
            "        [0., 1., 0., 0., 1., 1., 0., 0., 1., 1.],\n",
            "        [1., 0., 1., 0., 1., 1., 1., 0., 1., 0.],\n",
            "        [0., 0., 1., 1., 0., 1., 0., 0., 0., 1.],\n",
            "        [1., 0., 0., 0., 0., 0., 0., 1., 1., 1.],\n",
            "        [1., 1., 0., 0., 1., 0., 1., 0., 1., 0.],\n",
            "        [0., 0., 0., 1., 1., 0., 0., 0., 1., 0.],\n",
            "        [1., 0., 1., 0., 0., 0., 0., 1., 0., 0.]], device='cuda:0')\n"
          ],
          "name": "stdout"
        }
      ]
    },
    {
      "cell_type": "code",
      "metadata": {
        "id": "kQwx_-6WIqRy"
      },
      "source": [
        "#работает!!!\n",
        "\n",
        "def matrix_element_iter_new(batch):\n",
        "    batch_size = batch.shape[0]\n",
        "    batch_new = torch.clone(batch)\n",
        "    batch_new[batch_new == 0] = -1\n",
        "    C = torch.zeros(batch_size, batch_size).to(device)\n",
        "    j = torch.arange(0,batch_size,1).to(device)\n",
        "    \n",
        "    coef_first = number_of_qubits - number_of_qubits % 2\n",
        "    coef = torch.zeros(number_of_qubits ).to(device)\n",
        "    \n",
        "    for i in range(number_of_qubits -1):\n",
        "        coef[i] = -coef_first\n",
        "        if i%2 == 0 : \n",
        "            coef_first = coef_first-2       \n",
        "\n",
        "    C[j,j] = -(batch_new[j]*coef).sum(dim = 1)\n",
        "    coef_2 = (torch.arange(number_of_qubits -2, 0, -1)*2).to(device)\n",
        "    \n",
        "    for i in range(0,number_of_qubits-1):\n",
        "        s = torch.zeros(batch_size).to(device)\n",
        "        for m in range(i+1, number_of_qubits-1):\n",
        "            #print(m, coef_2[m-1])\n",
        "            s += coef_2[m - 1]*batch_new[:,m]\n",
        "            #print(s)\n",
        "        #print(s)    \n",
        "        C[j,j] += batch_new[j,i]*s[j]\n",
        "       \n",
        "    One = torch.eye(batch_size, batch_size).to(device)\n",
        "    I = torch.tensor([range(0,number_of_qubits)]).sum()\n",
        "    I += math.floor(number_of_qubits/2)\n",
        "    One *= I    \n",
        "    return (C + One)/4\n",
        "                \n",
        "            \n",
        "def matrix_element_xy(batch):\n",
        "    batch_size = batch.shape[0]\n",
        "    batch_new = torch.clone(batch)\n",
        "    batch_new[batch_new == 0] = -1\n",
        "    \n",
        "    place = torch.zeros(number_of_qubits -1,2)\n",
        "    C = torch.zeros(batch_size, batch_size)\n",
        "    \n",
        "    for i in range(number_of_qubits-1):\n",
        "        place[i][0]= i\n",
        "        place[i][1] = i+1\n",
        "    outt = torch.arange(batch_size)\n",
        "    for i in outt:\n",
        "        for j in outt:\n",
        "            true = (torch.nonzero(batch_new[i] != batch_new[j])).reshape(-1)\n",
        "            if (true.shape[0] == 2) and ((true == place).prod(dim = 1).sum()):\n",
        "                C[i,j] = 1 -batch_new[i,true[0]]*batch_new[i,true[1]]\n",
        "    return C/2\n",
        "\n",
        "def matrix_element_m(batch):\n",
        "\n",
        "    batch_new = torch.clone(batch)\n",
        "    batch_size = batch.shape[0]\n",
        "    batch_new[batch_new == 0] = -1\n",
        "    \n",
        "    t = torch.arange(0,number_of_qubits,1).to(device)\n",
        "    \n",
        "    batch_new[:,t] *= (-1)**(t+1)\n",
        "    \n",
        "    M = torch.zeros(batch_size, batch_size).to(device)\n",
        "    j = torch.arange(0,batch_size,1)\n",
        "    M[j,j] = -batch_new.sum(dim = 1)\n",
        "        #N+= M\n",
        "    return m/2*M\n",
        "\n",
        "def matrix_element_xy_new_4(batch):\n",
        "    batch_new = torch.clone(batch)\n",
        "    batch_size = batch.shape[0]\n",
        "    batch_new[batch_new == 0] = -1\n",
        "    \n",
        "    place = torch.zeros(number_of_qubits -1,number_of_qubits)\n",
        "    C = torch.zeros(batch_size, batch_size)\n",
        "    for i in range(number_of_qubits-1):\n",
        "        place[i][i]= 1\n",
        "        place[i][i+1] = 1\n",
        "\n",
        "    res = batch_new.unsqueeze(1) != batch_new\n",
        "\n",
        "    for k in range(number_of_qubits-1):\n",
        "        true = torch.nonzero(place[k]).reshape(-1)\n",
        "        #print(true)\n",
        "        C[(res[:,:] == place[k]).prod(dim = 2) == 1] = 1 - batch_new[:,true[0]]*batch_new[:,true[1]]\n",
        "    return C/2\n",
        "\n",
        "def matrix(batch):               \n",
        "    return  matrix_element_iter_new(batch) + matrix_element_xy_new_7(batch) + matrix_element_m(batch)"
      ],
      "execution_count": 9,
      "outputs": []
    },
    {
      "cell_type": "code",
      "metadata": {
        "id": "GSQ9-NMlIuGq"
      },
      "source": [
        "def matrix_element_xy_new_7(batch):\n",
        "    batch_new = torch.clone(batch)\n",
        "    #print(batch_new.device)\n",
        "    batch_size = batch.shape[0]\n",
        "    batch_new[batch_new == 0] = -1\n",
        "    res = batch_new.unsqueeze(1) != batch_new\n",
        "    \n",
        "    place = torch.zeros(number_of_qubits -1,number_of_qubits).to(device)\n",
        "    C = torch.zeros(batch_size, batch_size).to(device)\n",
        "    \n",
        "    for i in range(number_of_qubits-1):\n",
        "        place[i][i]= 1\n",
        "        place[i][i+1] = 1\n",
        "        true = torch.nonzero((res == place[i]).prod(dim = 2)==1)\n",
        "        ress = batch_new[true[:,0],i]*batch_new[true[:,0],i+1]\n",
        "        C[true[:,0], true[:,1]] = 1 - ress\n",
        "    return C/2"
      ],
      "execution_count": 10,
      "outputs": []
    },
    {
      "cell_type": "code",
      "metadata": {
        "id": "se_8z6VDIxL2",
        "colab": {
          "base_uri": "https://localhost:8080/"
        },
        "outputId": "275b15c4-e7aa-4f74-ea4e-d22857720f63"
      },
      "source": [
        "batch = make_batch(10)\n",
        "batch = batch.to(device)\n",
        "M = matrix(batch)\n",
        "print(M.is_cuda)"
      ],
      "execution_count": 11,
      "outputs": [
        {
          "output_type": "stream",
          "text": [
            "True\n"
          ],
          "name": "stdout"
        }
      ]
    },
    {
      "cell_type": "code",
      "metadata": {
        "id": "ZASVXodBKS_c"
      },
      "source": [
        "class Net(nn.Module):\n",
        "    \n",
        "    lr = 0.0001\n",
        "    \n",
        "    N_epochs = 100000\n",
        "    \n",
        "    def __init__(self):\n",
        "        super(Net,self).__init__()\n",
        "        self.Linear0 = nn.Linear(number_of_qubits, 50)\n",
        "        self.Linear1 = nn.Linear(50, 50)\n",
        "        self.Linear2 = nn.Linear(50, 50)\n",
        "        self.Linear3 = nn.Linear(50, 1)\n",
        "        \n",
        "        self.relu = nn.ReLU()\n",
        "        self.bn0 = nn.BatchNorm1d(50)\n",
        "    \n",
        "    def forward(self,x):\n",
        "        x = self.Linear0(x)\n",
        "        x = self.relu(x)\n",
        "        x = self.bn0(x)\n",
        "        x = self.Linear1(x)\n",
        "        x = self.relu(x)\n",
        "        x = self.bn0(x)\n",
        "        x = self.Linear2(x)\n",
        "        x = self.relu(x)\n",
        "        x = self.bn0(x)\n",
        "        x = self.Linear3(x)\n",
        "        return x\n",
        "    \n",
        "    \n",
        "    \n",
        "    def loss(self,inp):\n",
        "        res = torch.matmul(torch.transpose(inp, 0, 1), torch.matmul(H, inp))\n",
        "        return res\n",
        "    \n",
        "    def sample(self,batch,i):\n",
        "        for k in range(0,5):\n",
        "            batch_new = torch.clone(batch)\n",
        "            dims = torch.arange(batch_size).to(device)\n",
        "            ind = torch.randint(number_of_qubits,(batch_size,)).to(device)\n",
        "            #ind2 = torch.randint(number_of_qubits,(batch_size,)).to(device)\n",
        "            #ind3 = torch.randint(number_of_qubits,(batch_size,)).to(device)\n",
        "            batch_new[dims, ind] = 1 - batch_new[dims, ind]\n",
        "            #batch_new[dims, ind2] = 1 - batch_new[dims, ind2]\n",
        "            #batch_new[dims, ind3] = 1 - batch_new[dims, ind3]\n",
        "            #batch_new = torch.randint(0,2,(batch_size,number_of_qubits)).type(torch.FloatTensor).to(device)\n",
        "\n",
        "            amplitude = net(batch)\n",
        "            amplitude_new = net(batch_new)\n",
        "\n",
        "            A = torch.reshape(torch.log(amplitude_new**2 + 1) -  torch.log(amplitude**2 + 1),(batch_size,)).to(device)\n",
        "            u = torch.log(torch.rand((batch_size))).to(device)\n",
        "            batch[u < A,:] = batch_new[u < A,:]\n",
        "\n",
        "        return batch\n",
        "    \n",
        "    def loss2(self,batch):\n",
        "        out, num= torch.unique(batch, return_counts = True,dim = 0)\n",
        "        psi = net(out)\n",
        "        epsilon = 0.00001\n",
        "        psi = psi/(psi.norm() + epsilon)\n",
        "        #print(psi.shape, num.max(), num.min())\n",
        "        \n",
        "        M = matrix(out)\n",
        "        E = torch.matmul(torch.transpose(psi, 0, 1), torch.matmul(M, psi))\n",
        "        return E\n",
        "    \n",
        "    def optimize(self,inp):\n",
        "        optimizer = torch.optim.Adam(self.parameters(), lr = self.lr, betas=(0.9, 0.999))###\n",
        "        #optimizer = torch.optim.SGD(self.parameters(), self.lr, momentum= 0.9) \n",
        "        distance = []\n",
        "        count = 0\n",
        "        #scheduler = torch.optim.lr_scheduler.MultiStepLR(optimizer, milestones=[5000,20000], gamma=0.1)\n",
        "        for i in tqdm(range(self.N_epochs)): #tqdm показывет процесс выполенения в процентах\n",
        "            optimizer.zero_grad()\n",
        "            #print(inp)\n",
        "            count += 1\n",
        "            \n",
        "            inp = self.sample(inp,i)\n",
        "            #out = net(inp)\n",
        "            #out = out / out.norm()\n",
        "            loss_curr = self.loss2(inp)\n",
        "            #scheduler.step()\n",
        "            #out = net(inp)\n",
        "            #out = out / out.norm()\n",
        "            #loss_curr = self.loss(out)\n",
        "    \n",
        "            if i == self.N_epochs - 1:\n",
        "                print(loss_curr)\n",
        "                \n",
        "            loss_curr.backward()\n",
        "            optimizer.step() # parameter update\n",
        "            distance.append(loss_curr.view(1).detach().cpu().numpy())# To stop a tensor from tracking history, you can call .detach() \n",
        "            #to detach it from the computation history, and to prevent future computation from being tracked.\n",
        "            \n",
        "            if count == 100:\n",
        "                \n",
        "                clear_output()\n",
        "                plt.plot(distance)\n",
        "                plt.show()\n",
        "                print(loss_curr)\n",
        "                print('Epoch-{0} lr: {1}'.format(i, optimizer.param_groups[0]['lr']))\n",
        "                count = 0\n",
        "        return distance"
      ],
      "execution_count": 16,
      "outputs": []
    },
    {
      "cell_type": "code",
      "metadata": {
        "colab": {
          "base_uri": "https://localhost:8080/",
          "height": 581
        },
        "id": "hgHgTdTeSEk-",
        "outputId": "7559eb95-4030-44da-dfa8-b5639d44ae93"
      },
      "source": [
        "net = Net()\n",
        "net.to(device)\n",
        "#мой способ\n",
        "#k=5\n",
        "#50 neurons\n",
        "#lr = 0.00001\n",
        "#три раза флипаю спин\n",
        "m = 0.1\n",
        "batch_size = 2**number_of_qubits\n",
        "batch_size = 500\n",
        "batch = make_batch(batch_size)\n",
        "batch = batch.to(device)\n",
        "print(basis)\n",
        "\n",
        "dist = net.optimize(batch)\n",
        "plt.plot(dist[1:])\n",
        "basis_gpu = basis.to(device)\n",
        "H_gpu = H.to(device)\n",
        "Psi = net(basis_gpu)/net(basis_gpu).norm()\n",
        "print(torch.matmul(torch.transpose(Psi, 0, 1), torch.matmul(H_gpu, Psi)), \"jjj\")\n"
      ],
      "execution_count": 17,
      "outputs": [
        {
          "output_type": "display_data",
          "data": {
            "image/png": "[encoded data removed]",
            "text/plain": [
              "<Figure size 432x288 with 1 Axes>"
            ]
          },
          "metadata": {
            "tags": [],
            "needs_background": "light"
          }
        },
        {
          "output_type": "stream",
          "text": [
            "100%|██████████| 100000/100000 [45:40<00:00, 36.49it/s]"
          ],
          "name": "stderr"
        },
        {
          "output_type": "stream",
          "text": [
            "tensor([[-3.4996]], device='cuda:0', grad_fn=<MmBackward>)\n",
            "Epoch-99999 lr: 0.0001\n",
            "tensor([[-3.6704]], device='cuda:0', grad_fn=<MmBackward>) jjj\n"
          ],
          "name": "stdout"
        },
        {
          "output_type": "stream",
          "text": [
            "\n"
          ],
          "name": "stderr"
        },
        {
          "output_type": "display_data",
          "data": {
            "image/png": "[encoded data removed]",
            "text/plain": [
              "<Figure size 432x288 with 1 Axes>"
            ]
          },
          "metadata": {
            "tags": [],
            "needs_background": "light"
          }
        }
      ]
    },
    {
      "cell_type": "code",
      "metadata": {
        "colab": {
          "base_uri": "https://localhost:8080/",
          "height": 581
        },
        "id": "gaLWO_llc-dd",
        "outputId": "99b48a4f-fd4c-4500-ea74-b02aef7324bf"
      },
      "source": [
        "net = Net()\n",
        "net.to(device)\n",
        "#мой способ\n",
        "#k=5\n",
        "#50 neurons\n",
        "#lr = 0.001\n",
        "#два раза флипаю спин\n",
        "m = 0.1\n",
        "batch_size = 2**number_of_qubits\n",
        "batch_size = 500\n",
        "batch = make_batch(batch_size)\n",
        "batch = batch.to(device)\n",
        "print(basis)\n",
        "\n",
        "dist = net.optimize(batch)\n",
        "plt.plot(dist[1:])\n",
        "basis_gpu = basis.to(device)\n",
        "H_gpu = H.to(device)\n",
        "Psi = net(basis_gpu)/net(basis_gpu).norm()\n",
        "print(torch.matmul(torch.transpose(Psi, 0, 1), torch.matmul(H_gpu, Psi)), \"jjj\")\n"
      ],
      "execution_count": 15,
      "outputs": [
        {
          "output_type": "display_data",
          "data": {
            "image/png": "[encoded data removed]",
            "text/plain": [
              "<Figure size 432x288 with 1 Axes>"
            ]
          },
          "metadata": {
            "tags": [],
            "needs_background": "light"
          }
        },
        {
          "output_type": "stream",
          "text": [
            "100%|██████████| 100000/100000 [47:23<00:00, 35.17it/s]"
          ],
          "name": "stderr"
        },
        {
          "output_type": "stream",
          "text": [
            "tensor([[-3.9073]], device='cuda:0', grad_fn=<MmBackward>)\n",
            "Epoch-99999 lr: 1e-05\n",
            "tensor([[-4.1907]], device='cuda:0', grad_fn=<MmBackward>) jjj\n"
          ],
          "name": "stdout"
        },
        {
          "output_type": "stream",
          "text": [
            "\n"
          ],
          "name": "stderr"
        },
        {
          "output_type": "display_data",
          "data": {
            "image/png": "[encoded data removed]",
            "text/plain": [
              "<Figure size 432x288 with 1 Axes>"
            ]
          },
          "metadata": {
            "tags": [],
            "needs_background": "light"
          }
        }
      ]
    },
    {
      "cell_type": "code",
      "metadata": {
        "colab": {
          "base_uri": "https://localhost:8080/",
          "height": 581
        },
        "id": "xzZRuj7azz1-",
        "outputId": "5136163f-50ae-4b10-afef-d6209c57b961"
      },
      "source": [
        "net = Net()\n",
        "net.to(device)\n",
        "#мой способ\n",
        "#k=5\n",
        "#50 neurons\n",
        "#lr = 0.01\n",
        "m = 0.1\n",
        "batch_size = 2**number_of_qubits\n",
        "batch_size = 500\n",
        "batch = make_batch(batch_size)\n",
        "batch = batch.to(device)\n",
        "print(basis)\n",
        "\n",
        "dist = net.optimize(batch)\n",
        "plt.plot(dist[1:])\n",
        "basis_gpu = basis.to(device)\n",
        "H_gpu = H.to(device)\n",
        "Psi = net(basis_gpu)/net(basis_gpu).norm()\n",
        "print(torch.matmul(torch.transpose(Psi, 0, 1), torch.matmul(H_gpu, Psi)), \"jjj\")\n"
      ],
      "execution_count": 13,
      "outputs": [
        {
          "output_type": "display_data",
          "data": {
            "image/png": "[encoded data removed]",
            "text/plain": [
              "<Figure size 432x288 with 1 Axes>"
            ]
          },
          "metadata": {
            "tags": [],
            "needs_background": "light"
          }
        },
        {
          "output_type": "stream",
          "text": [
            "\r100%|██████████| 100000/100000 [44:41<00:00, 37.29it/s]"
          ],
          "name": "stderr"
        },
        {
          "output_type": "stream",
          "text": [
            "tensor([[-4.1633]], device='cuda:0', grad_fn=<MmBackward>)\n",
            "Epoch-99999 lr: 0.0001\n",
            "tensor([[-4.2233]], device='cuda:0', grad_fn=<MmBackward>) jjj\n"
          ],
          "name": "stdout"
        },
        {
          "output_type": "stream",
          "text": [
            "\n"
          ],
          "name": "stderr"
        },
        {
          "output_type": "display_data",
          "data": {
            "image/png": "[encoded data removed]",
            "text/plain": [
              "<Figure size 432x288 with 1 Axes>"
            ]
          },
          "metadata": {
            "tags": [],
            "needs_background": "light"
          }
        }
      ]
    },
    {
      "cell_type": "code",
      "metadata": {
        "id": "6MW18BI6KZNf",
        "colab": {
          "base_uri": "https://localhost:8080/",
          "height": 581
        },
        "outputId": "39194baf-153c-4bed-dc9a-b48fef7487c6"
      },
      "source": [
        "net = Net()\n",
        "net.to(device)\n",
        "#мой способ\n",
        "m = 0.1\n",
        "batch_size = 2**number_of_qubits\n",
        "batch_size = 500\n",
        "batch = make_batch(batch_size)\n",
        "batch = batch.to(device)\n",
        "print(basis)\n",
        "\n",
        "dist = net.optimize(batch)\n",
        "plt.plot(dist[1:])"
      ],
      "execution_count": 14,
      "outputs": [
        {
          "output_type": "display_data",
          "data": {
            "image/png": "[encoded data removed]",
            "text/plain": [
              "<Figure size 432x288 with 1 Axes>"
            ]
          },
          "metadata": {
            "tags": [],
            "needs_background": "light"
          }
        },
        {
          "output_type": "stream",
          "text": [
            "\r100%|██████████| 100000/100000 [45:10<00:00, 36.90it/s]"
          ],
          "name": "stderr"
        },
        {
          "output_type": "stream",
          "text": [
            "tensor([[-3.6771]], device='cuda:0', grad_fn=<MmBackward>)\n",
            "Epoch-99999 lr: 0.0001\n"
          ],
          "name": "stdout"
        },
        {
          "output_type": "stream",
          "text": [
            "\n"
          ],
          "name": "stderr"
        },
        {
          "output_type": "execute_result",
          "data": {
            "text/plain": [
              "[<matplotlib.lines.Line2D at 0x7fb1605060f0>]"
            ]
          },
          "metadata": {
            "tags": []
          },
          "execution_count": 14
        },
        {
          "output_type": "display_data",
          "data": {
            "image/png": "[encoded data removed]",
            "text/plain": [
              "<Figure size 432x288 with 1 Axes>"
            ]
          },
          "metadata": {
            "tags": [],
            "needs_background": "light"
          }
        }
      ]
    },
    {
      "cell_type": "code",
      "metadata": {
        "colab": {
          "base_uri": "https://localhost:8080/"
        },
        "id": "3FNMnLch9FXU",
        "outputId": "c6f3e4c5-9450-4b39-c3c5-badb06181cb1"
      },
      "source": [
        "basis_gpu = basis.to(device)\n",
        "H_gpu = H.to(device)\n",
        "Psi = net(basis_gpu)/net(basis_gpu).norm()\n",
        "print(torch.matmul(torch.transpose(Psi, 0, 1), torch.matmul(H_gpu, Psi)), \"jjj\")\n"
      ],
      "execution_count": 16,
      "outputs": [
        {
          "output_type": "stream",
          "text": [
            "tensor([[-3.7078]], device='cuda:0', grad_fn=<MmBackward>) jjj\n"
          ],
          "name": "stdout"
        }
      ]
    },
    {
      "cell_type": "code",
      "metadata": {
        "id": "QcbIZzDCLHBQ",
        "colab": {
          "base_uri": "https://localhost:8080/"
        },
        "outputId": "66e768c4-0dbc-4191-bccf-e4886c4f6c38"
      },
      "source": [
        "torch.set_printoptions(precision=5)\n",
        "eig_values = torch.eig(H, eigenvectors = True)[0][:, 0]\n",
        "eig_vector = torch.eig(H, eigenvectors = True)[1]\n",
        "c = eig_values.min()\n",
        "m = torch.min(eig_values,0)[1]\n",
        "print(c, m)\n",
        "#print(net.loss(net(basis)/net(basis).norm()), 'loss через H')\n",
        "basis_gpu = basis.to(device)\n",
        "H_gpu = H.to(device)\n",
        "Psi = net(basis_gpu)/net(basis_gpu).norm()\n",
        "print(Psi**2, \"psi\")\n",
        "print(torch.matmul(torch.transpose(Psi, 0, 1), torch.matmul(H_gpu, Psi)), \"jjj\")\n",
        "min_vector = eig_vector[:,m].reshape(1,2**number_of_qubits)"
      ],
      "execution_count": 74,
      "outputs": [
        {
          "output_type": "stream",
          "text": [
            "tensor(-4.40245) tensor(124)\n",
            "tensor([[8.31773e-07],\n",
            "        [8.71138e-07],\n",
            "        [8.28258e-07],\n",
            "        ...,\n",
            "        [7.60812e-07],\n",
            "        [7.77289e-07],\n",
            "        [7.06550e-07]], device='cuda:0', grad_fn=<PowBackward0>) psi\n",
            "tensor([[-4.25524]], device='cuda:0', grad_fn=<MmBackward>) jjj\n"
          ],
          "name": "stdout"
        }
      ]
    },
    {
      "cell_type": "code",
      "metadata": {
        "id": "SyreP1IN2bwC",
        "colab": {
          "base_uri": "https://localhost:8080/"
        },
        "outputId": "17e9d33a-101d-40dc-fe2d-f0e15666b720"
      },
      "source": [
        "a=torch.zeros(1000,1000)\n",
        "print(a)\n",
        "a.device\n",
        "#torch.cuda.FloatTensor(1000, 1000).fill_(0)\n",
        "#a = a.to(device='cuda')"
      ],
      "execution_count": null,
      "outputs": [
        {
          "output_type": "stream",
          "text": [
            "tensor([[0., 0., 0.,  ..., 0., 0., 0.],\n",
            "        [0., 0., 0.,  ..., 0., 0., 0.],\n",
            "        [0., 0., 0.,  ..., 0., 0., 0.],\n",
            "        ...,\n",
            "        [0., 0., 0.,  ..., 0., 0., 0.],\n",
            "        [0., 0., 0.,  ..., 0., 0., 0.],\n",
            "        [0., 0., 0.,  ..., 0., 0., 0.]])\n"
          ],
          "name": "stdout"
        },
        {
          "output_type": "execute_result",
          "data": {
            "text/plain": [
              "device(type='cpu')"
            ]
          },
          "metadata": {
            "tags": []
          },
          "execution_count": 15
        }
      ]
    },
    {
      "cell_type": "code",
      "metadata": {
        "id": "H7Wi0lBc6K5r",
        "colab": {
          "base_uri": "https://localhost:8080/"
        },
        "outputId": "dc396e4e-21d3-4fa7-a78e-5a95f7c7a1d5"
      },
      "source": [
        "print(torch.cuda.device_count())\n",
        "print(torch.cuda.get_device_name(0))"
      ],
      "execution_count": null,
      "outputs": [
        {
          "output_type": "stream",
          "text": [
            "1\n",
            "Tesla P100-PCIE-16GB\n"
          ],
          "name": "stdout"
        }
      ]
    },
    {
      "cell_type": "code",
      "metadata": {
        "id": "HR8_49KP8deu",
        "colab": {
          "base_uri": "https://localhost:8080/"
        },
        "outputId": "62ea31c6-f21c-4899-e011-f326aaf7f7b4"
      },
      "source": [
        "device = torch.device('cuda' if torch.cuda.is_available() else 'cpu')\n",
        "device"
      ],
      "execution_count": null,
      "outputs": [
        {
          "output_type": "execute_result",
          "data": {
            "text/plain": [
              "device(type='cuda')"
            ]
          },
          "metadata": {
            "tags": []
          },
          "execution_count": 8
        }
      ]
    },
    {
      "cell_type": "code",
      "metadata": {
        "id": "qRAvZzaR8yH6",
        "colab": {
          "base_uri": "https://localhost:8080/"
        },
        "outputId": "786301fa-d362-4b09-915c-a9bd45e1ef0e"
      },
      "source": [
        "a.is_cuda\n",
        "torch.cuda.is_available()"
      ],
      "execution_count": null,
      "outputs": [
        {
          "output_type": "execute_result",
          "data": {
            "text/plain": [
              "True"
            ]
          },
          "metadata": {
            "tags": []
          },
          "execution_count": 19
        }
      ]
    },
    {
      "cell_type": "code",
      "metadata": {
        "id": "v6-0bak0850i",
        "colab": {
          "base_uri": "https://localhost:8080/"
        },
        "outputId": "4819c55a-4773-40ce-e287-7cabe402a910"
      },
      "source": [
        "a = a.to(device)\n",
        "print(a)"
      ],
      "execution_count": null,
      "outputs": [
        {
          "output_type": "stream",
          "text": [
            "tensor([[0., 0., 0.,  ..., 0., 0., 0.],\n",
            "        [0., 0., 0.,  ..., 0., 0., 0.],\n",
            "        [0., 0., 0.,  ..., 0., 0., 0.],\n",
            "        ...,\n",
            "        [0., 0., 0.,  ..., 0., 0., 0.],\n",
            "        [0., 0., 0.,  ..., 0., 0., 0.],\n",
            "        [0., 0., 0.,  ..., 0., 0., 0.]], device='cuda:0')\n"
          ],
          "name": "stdout"
        }
      ]
    },
    {
      "cell_type": "code",
      "metadata": {
        "id": "iS2Pupy8IB0y",
        "colab": {
          "base_uri": "https://localhost:8080/"
        },
        "outputId": "7c7db3e8-cf6f-426a-8d04-a2a35c93620a"
      },
      "source": [
        "torch.cuda.is_available()"
      ],
      "execution_count": null,
      "outputs": [
        {
          "output_type": "execute_result",
          "data": {
            "text/plain": [
              "True"
            ]
          },
          "metadata": {
            "tags": []
          },
          "execution_count": 20
        }
      ]
    },
    {
      "cell_type": "code",
      "metadata": {
        "id": "ayDAp_uN8_rG"
      },
      "source": [
        ""
      ],
      "execution_count": null,
      "outputs": []
    }
  ]
}